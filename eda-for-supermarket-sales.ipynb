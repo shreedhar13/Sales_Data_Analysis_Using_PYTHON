{
 "cells": [
  {
   "cell_type": "markdown",
   "metadata": {
    "id": "O96wzAAIty6n"
   },
   "source": [
    "# <center><b> SUPERMARKET SALES CASE STUDY <b> </center>"
   ]
  },
  {
   "cell_type": "markdown",
   "metadata": {
    "id": "hxR42LV8ty7F"
   },
   "source": [
    "---\n",
    "\n",
    "<a name = Section0></a>\n",
    "## **Table of Contents**\n",
    "---\n",
    "\n",
    "**1.** [**Introduction**](#Section1)<br>\n",
    "**2.** [**Problem Statement**](#Section2)<br>\n",
    "**3.** [**Importing Libraries**](#Section3)<br>\n",
    "\n",
    "**4.** [**Data Acquisition & Description**](#Section4)<br>\n",
    "  - **4.1** **Data Description**\n",
    "  - **4.2** **Data Information**\n",
    "\n",
    "**5.** [**Data Pre-Profiling**](#Section5)<br>\n",
    "  \n",
    "**6.** [**Data Pre processing**](#Section6)<br>\n",
    "- **6.1** **Identification & Handling of Inconsistent Data Types**\n",
    "\n",
    "**7.** [**Exploratory Data Analysis**](#Section7)<br>\n",
    "- **Q1. What is the average sales over time?**<br>\n",
    "- **Q2. What is the average COGS, Gross Margin, Gross Income over time?**\n",
    "\n",
    "- **Q3. What is the distribution of count of sales from different cities of the superstore?**\n",
    "- **Q4. Plot the total sales of each city?**\n",
    "- **Q5. What is the distribution of customer type count?**\n",
    "- **Q6. What is the average sales customer type wise?**\n",
    "- **Q7. What is the distribution of average sales as per customer types for each city?**\n",
    "- **Q8. What is the branch and city and customer type wise average total sales distribution?**\n",
    "- **Q9. Which product-line was customer's most and least favorite?**\n",
    "- **Q10. Plot the distribution of the total sales Branch and Product line wise.**\n",
    "- **Q11. What is the distribution of Average Total Sales product line wise?**\n",
    "- **Q12.Which type of Customer spends more on which Product line ?**\n",
    "- **Q13. Find Average Sales Gender and Branch Wise.**\n",
    "- **Q14. What is the total Average sales for each gender and product line combination?**\n",
    "- **Q15: What is the correlation among the various features in the dataset?**\n",
    "\n",
    "**8.** [**Summarization**](#Section8)<br>\n",
    "   - **8.1** **Observations**\n",
    "   - **8.2** **Actionable Insights**"
   ]
  },
  {
   "cell_type": "markdown",
   "metadata": {
    "id": "_SgTwrDTty7I"
   },
   "source": [
    "---\n",
    "<a name = Section1></a>\n",
    "# **1. Introduction**\n",
    "---\n",
    "\n",
    "- **EasyGrab** is a retail superstore in New York, USA that has three branches.\n",
    "- They deal in various **product lines such as home and lifestyle, health and beauty** etc.\n",
    "- The store has **3 branches** and people walk into the store from different cities\n",
    "\n",
    "<center><img src=\"https://www.lincesoft.com/wp-content/uploads/2020/06/retail.jpg\"></center>\n",
    "\n",
    "\n",
    "[*Go Back to Index*](#Section0)<br>"
   ]
  },
  {
   "cell_type": "markdown",
   "metadata": {
    "id": "B936xVJHty7J"
   },
   "source": [
    "\n",
    "---\n",
    "\n",
    "<a name = Section2></a>\n",
    "## **2. PROBLEM STATEMENT**\n",
    "---\n",
    "\n",
    "- You are the manager of **EasyGrab** whose job is manage all the branches of the superstore.\n",
    "- The sales have been **stagnant for the past quarter** and we need to **increase** them in order to **meet our targets** for the year.\n",
    "- You are responsible to find out which **product line and branch** should be focussed on more.\n",
    "-  To **increase sales by 30%** over the next quarter through targeted marketing campaigns and improved sales techniques.\n",
    "- This will focus on **identifying target markets, creating marketing materials** and campaigns to **reach those markets**, and **training our sales team** on how to effectively sell to those customers.\n",
    "\n",
    "**Constraints:**\n",
    "\n",
    "- Budget: We have a **limited budget** for marketing campaigns and sales team training.\n",
    "- Time: We only have a **few weeks to implement** these changes before the end of the quarter.\n",
    "\n",
    "**Success Criteria:**\n",
    "\n",
    "- **Increase in sales** revenue by 30% over the next quarter.\n",
    "- Positive **feedback from customers** and sales team on marketing campaigns and sales techniques.\n",
    "- **Cost-effective use of budget** for marketing and sales team training."
   ]
  },
  {
   "cell_type": "markdown",
   "metadata": {
    "id": "25BF6oyNty7Q"
   },
   "source": [
    "---\n",
    "<a name = Section3></a>\n",
    "# **3. Installing and importing Libraries**\n",
    "---"
   ]
  },
  {
   "cell_type": "code",
   "execution_count": null,
   "metadata": {
    "_cell_guid": "b1076dfc-b9ad-4769-8c92-a6c4dae69d19",
    "_uuid": "8f2839f25d086af736a60e9eeb907d3b93b6e0e5",
    "execution": {
     "iopub.execute_input": "2023-01-28T06:35:07.161174Z",
     "iopub.status.busy": "2023-01-28T06:35:07.160579Z",
     "iopub.status.idle": "2023-01-28T06:35:09.612736Z",
     "shell.execute_reply": "2023-01-28T06:35:09.611352Z",
     "shell.execute_reply.started": "2023-01-28T06:35:07.161055Z"
    },
    "id": "py5GxENnty7X"
   },
   "outputs": [],
   "source": [
    "import warnings                                         #To avoid any warnings\n",
    "warnings.filterwarnings(\"ignore\")\n",
    "import numpy as np                                      # linear algebra\n",
    "import pandas as pd                                     # data processing, CSV file I/O (e.g. pd.read_csv)\n",
    "import seaborn as sns                                   #High level visualization library built on top of matplotlib\n",
    "import matplotlib.pyplot as plt                         #Core Library for Data Visualization \n",
    "%matplotlib inline\n",
    "plt.rcParams['font.size'] = 14\n",
    "plt.rcParams['figure.figsize'] = (22, 5)\n",
    "plt.rcParams['figure.dpi'] = 100\n",
    "from pandas_profiling import ProfileReport              #For Panel Data Analysis"
   ]
  },
  {
   "cell_type": "markdown",
   "metadata": {},
   "source": [
    "[*Go Back to Index*](#Section0)<br>"
   ]
  },
  {
   "cell_type": "markdown",
   "metadata": {
    "id": "Fz7bCJq7ty7Z"
   },
   "source": [
    "---\n",
    "<a name = Section4></a>\n",
    "# **4. Data Acquisition & Description**\n",
    "---\n",
    "\n",
    "- The dataset contains the different data related to a food order.\n",
    "\n",
    "| Records | Features | Dataset Size |\n",
    "| :-- | :-- | :-- |\n",
    "| 1000 | 17 | 132.9+ KB | \n",
    "\n",
    "| ID | Feature Name | Description of the feature |\n",
    "| :-- | :--| :--| \n",
    "|01| **Invoice id**   |  Computer generated sales slip invoice identification number                            |\n",
    "|02| **Branch**      |  Branch of supercenter (3 branches are available identified by A, B and C).                 |\n",
    "|03| **City**        | Location of supercenters                            |\n",
    "|04| **Customer type**          | Type of customers, recorded by Members for customers using member card and Normal for without member card.|\n",
    "|05| **Gender**           |   Gender type of customer                                 |\n",
    "|06| **Product line**           |  General item categorization groups                              |\n",
    "|07| **Unit price**           | Price of each product in dollars                                  |\n",
    "|08| **Quantity**     | Number of products purchased by customer |\n",
    "|09| **Tax**     | 5% tax fee for customer buying |\n",
    "|10| **Total**        | Total price including tax                                      |\n",
    "|11| **Date**        | Date of purchase                                         |\n",
    "|12| **Time**        | Purchase time (10am to 9pm)                                        |\n",
    "|13| **Payment**        | Payment method used by customer for purchase                                          |\n",
    "|14| **COGS**        | Cost of goods sold                                        |\n",
    "|15| **Gross margin percentage**        | Gross margin percentage                                      |\n",
    "|16| **Gross income**        |  Gross income                                         |\n",
    "|17| **Rating**        | Customer stratification rating on their overall shopping experience (On a scale of 1 to 10)|"
   ]
  },
  {
   "cell_type": "code",
   "execution_count": null,
   "metadata": {
    "execution": {
     "iopub.execute_input": "2023-01-28T06:35:09.616685Z",
     "iopub.status.busy": "2023-01-28T06:35:09.61567Z",
     "iopub.status.idle": "2023-01-28T06:35:09.689931Z",
     "shell.execute_reply": "2023-01-28T06:35:09.68867Z",
     "shell.execute_reply.started": "2023-01-28T06:35:09.616626Z"
    },
    "id": "v9y_oiRKty7g",
    "outputId": "f28b5e6f-d00c-41a6-c3d9-beae493f904b"
   },
   "outputs": [],
   "source": [
    "#Reading the data using pandas \n",
    "url = '/kaggle/input/supermarket-sales/supermarket_sales - Sheet1.csv'\n",
    "df =  pd.read_csv(url)\n",
    "#printing the shape of the data\n",
    "print('The shape of the Data: {}\\n'.format(df.shape))\n",
    "#Displaying first few rows of the data\n",
    "df.head()"
   ]
  },
  {
   "cell_type": "markdown",
   "metadata": {
    "id": "tiOf7fSgty7j"
   },
   "source": [
    "<a name = Section41></a>\n",
    "### **4.1 Data Description**\n",
    "\n",
    "- In this section we will get **information about the data** and see some observations."
   ]
  },
  {
   "cell_type": "code",
   "execution_count": null,
   "metadata": {
    "execution": {
     "iopub.execute_input": "2023-01-28T06:35:09.693041Z",
     "iopub.status.busy": "2023-01-28T06:35:09.691672Z",
     "iopub.status.idle": "2023-01-28T06:35:09.764151Z",
     "shell.execute_reply": "2023-01-28T06:35:09.762765Z",
     "shell.execute_reply.started": "2023-01-28T06:35:09.692983Z"
    },
    "id": "M1PEwl15ty7n",
    "outputId": "e097267c-ba67-44d1-b16d-c5726f50cfb8"
   },
   "outputs": [],
   "source": [
    "#Getting some stats about the numerical columns of the data\n",
    "df.describe()"
   ]
  },
  {
   "cell_type": "markdown",
   "metadata": {
    "id": "zw0xxfP9ty7r"
   },
   "source": [
    "**Observations:-**\n",
    "\n",
    "- **Unit price** is minimum 10 and maximum 99.6 with an average of 55.\n",
    "- **Tax** ranges from 0.5 to 49 dollars.\n",
    "- **Minimum rating** is 4 and maximum rating is 10.\n",
    "- **Total** Price ranges from 10 to 1042."
   ]
  },
  {
   "cell_type": "markdown",
   "metadata": {
    "id": "I5oYlnC7ty7y"
   },
   "source": [
    "<a name = Section42></a>\n",
    "### **4.2 Data Information**\n",
    "\n",
    "- In this section we will see the information about the **data types of the features**."
   ]
  },
  {
   "cell_type": "code",
   "execution_count": null,
   "metadata": {
    "execution": {
     "iopub.execute_input": "2023-01-28T06:35:09.768574Z",
     "iopub.status.busy": "2023-01-28T06:35:09.76797Z",
     "iopub.status.idle": "2023-01-28T06:35:09.794983Z",
     "shell.execute_reply": "2023-01-28T06:35:09.793662Z",
     "shell.execute_reply.started": "2023-01-28T06:35:09.768522Z"
    },
    "id": "qABSOwY0ty7z",
    "outputId": "37006dab-d263-42d3-a950-a3ad3cbdc96c"
   },
   "outputs": [],
   "source": [
    "#getting the datatype and non null count for each column\n",
    "df.info()"
   ]
  },
  {
   "cell_type": "markdown",
   "metadata": {
    "id": "fRLCmwQHty70"
   },
   "source": [
    "**Observations:**\n",
    "\n",
    "- **Date Column** is object type which needs to be **converted** to datetime data type.\n",
    "- There are **7 float** datatype columns, **1 integer** datatype column and **9 Object** Data type column\n",
    "- There are **no null values** in the dataset\n",
    "\n",
    "\n",
    "[*Go Back to Index*](#Section0)<br>"
   ]
  },
  {
   "cell_type": "markdown",
   "metadata": {
    "id": "UDVlGKrwty74"
   },
   "source": [
    "---\n",
    "<a name = Section5></a>\n",
    "# **5. Data Pre-Profiling**\n",
    "---\n",
    "\n",
    "- For **quick analysis** pandas profiling is very handy.\n",
    "\n",
    "- It generates profile reports from a pandas DataFrame.\n",
    "\n",
    "- For each feature **statistics** are presented in an interactive HTML report."
   ]
  },
  {
   "cell_type": "code",
   "execution_count": null,
   "metadata": {
    "execution": {
     "iopub.execute_input": "2023-01-28T06:35:09.797998Z",
     "iopub.status.busy": "2023-01-28T06:35:09.796977Z",
     "iopub.status.idle": "2023-01-28T06:35:39.371381Z",
     "shell.execute_reply": "2023-01-28T06:35:39.370454Z",
     "shell.execute_reply.started": "2023-01-28T06:35:09.797948Z"
    },
    "id": "7bzG65BSty75",
    "outputId": "f23037f2-2adb-41e2-a923-25bac5dd8a5f"
   },
   "outputs": [],
   "source": [
    "profile = ProfileReport(df=df)\n",
    "profile.to_file(output_file='Pre Profiling Report.html')\n",
    "print('Accomplished!')"
   ]
  },
  {
   "cell_type": "markdown",
   "metadata": {
    "id": "41eq_Y-gHjjl"
   },
   "source": [
    "**Observations :**\n",
    "\n",
    "-\tThere are **17 variables (columns)** in the dataset and there are **1000 Observations (rows)** in the dataset.\n",
    "-\tThere are **no missing values** and **no duplicate rows** in the dataset. Total size of the dataset is 132 KB\n",
    "-\tThere are **10 categorical columns** while there are **7 numerical** columns in the data.\n",
    "-\tThere is **high cardinality** in the Invoice ID and this is the **unique identifier**. \n",
    "-\tEach row is **an invoice** of an individual customer.\n",
    "-\tTax has **perfect positive correlation** with Total, COGS and Gross Income.\n",
    "-\tUnit Price has **perfect positive correlation** with Tax, Total, COGS, Gross Income.\n",
    "-\tCOGS has **perfect positive correlation** with Unit Price, Tax, Total and Gross Income.\n",
    "-\tQuantity has **perfect positive correlation** with Tax, Total, COGS and Gross Income.\n",
    "-\t Gross Income has **perfect positive Correlation** with Unit Price, Tax, Total and COGS."
   ]
  },
  {
   "cell_type": "markdown",
   "metadata": {},
   "source": [
    "[*Go Back to Index*](#Section0)<br>"
   ]
  },
  {
   "cell_type": "markdown",
   "metadata": {
    "id": "H4T7cW9gty76"
   },
   "source": [
    "---\n",
    "<a name = Section6></a>\n",
    "# **6. Data Preprocessing**\n",
    "---\n",
    "\n",
    "- We would be **cleaning the data** in this section\n"
   ]
  },
  {
   "cell_type": "markdown",
   "metadata": {
    "id": "AA1jmQaFBk9c"
   },
   "source": [
    "## **6.1 Identification & Handling of Inconsistent Data Types**"
   ]
  },
  {
   "cell_type": "code",
   "execution_count": null,
   "metadata": {
    "execution": {
     "iopub.execute_input": "2023-01-28T06:35:39.373523Z",
     "iopub.status.busy": "2023-01-28T06:35:39.372941Z",
     "iopub.status.idle": "2023-01-28T06:35:39.393779Z",
     "shell.execute_reply": "2023-01-28T06:35:39.392395Z",
     "shell.execute_reply.started": "2023-01-28T06:35:39.373485Z"
    },
    "id": "J3rvMVdyty78"
   },
   "outputs": [],
   "source": [
    "#Converting the date column to datetime column and storing it back in the same column\n",
    "df['Date'] = pd.to_datetime(df['Date'])"
   ]
  },
  {
   "cell_type": "code",
   "execution_count": null,
   "metadata": {
    "execution": {
     "iopub.execute_input": "2023-01-28T06:35:39.395871Z",
     "iopub.status.busy": "2023-01-28T06:35:39.395502Z",
     "iopub.status.idle": "2023-01-28T06:35:39.410134Z",
     "shell.execute_reply": "2023-01-28T06:35:39.408691Z",
     "shell.execute_reply.started": "2023-01-28T06:35:39.395838Z"
    },
    "id": "NuSSrr38Iy77",
    "outputId": "4a42fa88-8ff0-456a-dc10-25d12f8082f2"
   },
   "outputs": [],
   "source": [
    "#checking if the date column datatype has been converted or not\n",
    "df[['Date']].info()"
   ]
  },
  {
   "cell_type": "markdown",
   "metadata": {},
   "source": [
    "[*Go Back to Index*](#Section0)<br>"
   ]
  },
  {
   "cell_type": "markdown",
   "metadata": {
    "id": "Y2fCiJ_mty79"
   },
   "source": [
    "---\n",
    "<a name = Section7></a>\n",
    "# **7. Exploratory Data Analysis**\n",
    "---"
   ]
  },
  {
   "cell_type": "markdown",
   "metadata": {
    "id": "Zf3gVql0ty9N"
   },
   "source": [
    "## **Q1. What is the average sales over time?**"
   ]
  },
  {
   "cell_type": "code",
   "execution_count": null,
   "metadata": {
    "execution": {
     "iopub.execute_input": "2023-01-28T06:35:39.413078Z",
     "iopub.status.busy": "2023-01-28T06:35:39.411994Z",
     "iopub.status.idle": "2023-01-28T06:35:39.426707Z",
     "shell.execute_reply": "2023-01-28T06:35:39.424846Z",
     "shell.execute_reply.started": "2023-01-28T06:35:39.413022Z"
    }
   },
   "outputs": [],
   "source": [
    "%matplotlib inline"
   ]
  },
  {
   "cell_type": "code",
   "execution_count": null,
   "metadata": {
    "execution": {
     "iopub.execute_input": "2023-01-28T06:35:39.430395Z",
     "iopub.status.busy": "2023-01-28T06:35:39.429701Z",
     "iopub.status.idle": "2023-01-28T06:35:39.703005Z",
     "shell.execute_reply": "2023-01-28T06:35:39.701682Z",
     "shell.execute_reply.started": "2023-01-28T06:35:39.430344Z"
    },
    "id": "zT2QqezoWTYG",
    "outputId": "4f19a213-68e1-4a5e-bc75-4e93ad8c05ef"
   },
   "outputs": [],
   "source": [
    "#grouping the data by month and then looking at the values in the total column \n",
    "df.groupby(df.Date.dt.month).mean()['Total'].plot(kind='line', figsize=(22,5), marker='o')\n",
    "\n",
    "xpoints =  [1,2,3]\n",
    "ypoints =  np.around(df.groupby(df.Date.dt.month).mean()['Total'].values,2)\n",
    "for x, y in zip(xpoints, ypoints):\n",
    "    plt.annotate(y,xy=(x, y), xytext=(-2, 8),textcoords='offset points', ha='center', va='bottom')\n",
    "\n",
    "#adding chart title\n",
    "plt.title('Month Wise Average Sales trend', fontsize=18)\n",
    "#Removing top and right spines in the chart\n",
    "plt.gca().spines['top'].set_visible(False)\n",
    "plt.gca().spines['right'].set_visible(False)\n",
    "#adding axis labels\n",
    "plt.xlabel('Month')\n",
    "plt.ylabel('Average Total Sales ($)')\n",
    "#Setting the x axis ticks rotation to 0\n",
    "plt.xticks(ticks =[1,2,3], labels=['Jan', 'Feb', 'Mar'], rotation=0)\n",
    "#Displaying the figure\n",
    "plt.show()"
   ]
  },
  {
   "cell_type": "markdown",
   "metadata": {
    "id": "g48pJwn4ty9a"
   },
   "source": [
    "**Observations**\n",
    "\n",
    "- There is **downard trend** over the months in average total sales."
   ]
  },
  {
   "cell_type": "markdown",
   "metadata": {
    "id": "EsguqkkMpJMP"
   },
   "source": [
    "## **Q2. What is the average COGS, Gross Margin, Gross Income over time?**"
   ]
  },
  {
   "cell_type": "code",
   "execution_count": null,
   "metadata": {
    "execution": {
     "iopub.execute_input": "2023-01-28T06:35:39.707259Z",
     "iopub.status.busy": "2023-01-28T06:35:39.706826Z",
     "iopub.status.idle": "2023-01-28T06:35:40.45424Z",
     "shell.execute_reply": "2023-01-28T06:35:40.452888Z",
     "shell.execute_reply.started": "2023-01-28T06:35:39.707219Z"
    },
    "id": "njVy41Puty9b",
    "outputId": "4e24977a-e32f-44dc-8cef-7d0ec6a85dc1"
   },
   "outputs": [],
   "source": [
    "colors = plt.rcParams[\"axes.prop_cycle\"]()\n",
    "\n",
    "#making a list of the columns we want to plot\n",
    "columns  = [ 'cogs', 'gross margin percentage', 'gross income']\n",
    "for i in columns:  \n",
    "    color = next(colors)[\"color\"]\n",
    "    #grouping the data by month and then plotting the columns above to find the trend over the time\n",
    "    df.groupby(df.Date.dt.month).mean()[i].plot(kind='line', figsize=(22,5), color= color, marker='o')\n",
    "    \n",
    "    xpoints =  [1,2,3]\n",
    "    ypoints =  np.around(df.groupby(df.Date.dt.month).mean()[i].values,2)\n",
    "    for x, y in zip(xpoints, ypoints):\n",
    "        plt.annotate(y,xy=(x, y), xytext=(-2, 8),textcoords='offset points', ha='center', va='bottom')\n",
    "    \n",
    "    #Adding Chart title\n",
    "    plt.title(f'Month Wise Average {i}', fontsize=20)\n",
    "    #Removing the top and right spines\n",
    "    plt.gca().spines['top'].set_visible(False)\n",
    "    plt.gca().spines['right'].set_visible(False)\n",
    "    #Adding axis labels\n",
    "    plt.xlabel('Month')\n",
    "    plt.ylabel(i)\n",
    "    plt.xticks(ticks =[1,2,3],  labels=['Jan', 'Feb', 'Mar'])\n",
    "    #Displaying the chart\n",
    "    plt.show()"
   ]
  },
  {
   "cell_type": "markdown",
   "metadata": {
    "id": "qI4-VVzAty9c"
   },
   "source": [
    "**Observations:**\n",
    "\n",
    "- **Cost of Goods Sold** and **Gross Income** follow the same trend as the sales. \n",
    "- Gross Margin Percentage **Trend is flat**."
   ]
  },
  {
   "cell_type": "markdown",
   "metadata": {
    "id": "7eXefWvEty8C"
   },
   "source": [
    "## **Q3. What is the distribution of count of sales from different cities of the superstore?**"
   ]
  },
  {
   "cell_type": "code",
   "execution_count": null,
   "metadata": {
    "execution": {
     "iopub.execute_input": "2023-01-28T06:35:40.457335Z",
     "iopub.status.busy": "2023-01-28T06:35:40.456492Z",
     "iopub.status.idle": "2023-01-28T06:35:40.705818Z",
     "shell.execute_reply": "2023-01-28T06:35:40.704771Z",
     "shell.execute_reply.started": "2023-01-28T06:35:40.457279Z"
    }
   },
   "outputs": [],
   "source": [
    "plt.figure(figsize=(22,5))\n",
    "ax = sns.countplot(df['City'])\n",
    "plt.title('Count of Sales, CIty Wise')\n",
    "#Removing the top and right spines\n",
    "plt.gca().spines['top'].set_visible(False)\n",
    "plt.gca().spines['right'].set_visible(False)\n",
    "#Adding axis labels\n",
    "plt.xlabel('Cities')\n",
    "for bar in ax.patches:\n",
    "    ax.annotate(format(bar.get_height(), '.0f'),(bar.get_x() + bar.get_width() / 2,bar.get_height()), \n",
    "                 ha='center', va='center',size=15, xytext=(0, 8),textcoords='offset points')\n",
    "#Displaying the chart\n",
    "plt.show()"
   ]
  },
  {
   "cell_type": "markdown",
   "metadata": {
    "id": "nQtw5P8_ty8D"
   },
   "source": [
    "**Observations:**\n",
    "\n",
    "- Count of sales from **Yangon** city is the highest while the count of sales from **Naypyitaw** is the least. "
   ]
  },
  {
   "cell_type": "markdown",
   "metadata": {
    "id": "VPNGO1eMB7dK"
   },
   "source": [
    "## **Q4. Plot the total sales of each city**"
   ]
  },
  {
   "cell_type": "code",
   "execution_count": null,
   "metadata": {
    "execution": {
     "iopub.execute_input": "2023-01-28T06:35:40.708552Z",
     "iopub.status.busy": "2023-01-28T06:35:40.707334Z",
     "iopub.status.idle": "2023-01-28T06:35:40.979515Z",
     "shell.execute_reply": "2023-01-28T06:35:40.978109Z",
     "shell.execute_reply.started": "2023-01-28T06:35:40.708504Z"
    },
    "id": "b_9OQ-c-6KCu",
    "outputId": "f91d2dee-3c07-4e8e-f0e1-46e891f5ffe7"
   },
   "outputs": [],
   "source": [
    "plt.figure(figsize=(22,5))\n",
    "#Creating a figure\n",
    "ax = sns.barplot(x='City', y = 'Total', hue = 'City', data = df, estimator=sum, ci=None, dodge=False)\n",
    "plt.xlabel('City')\n",
    "plt.ylabel('Sum of Sales($)')\n",
    "plt.title(f'Distribution of Total Sales City wise', fontsize=20, y=1.06)\n",
    "#Removing the top and right spines in the chart\n",
    "plt.gca().spines['top'].set_visible(False)\n",
    "plt.gca().spines['right'].set_visible(False)\n",
    "#Adding the data labels\n",
    "for bar in ax.patches:\n",
    "    ax.annotate(format(bar.get_height(), '.2f'),(bar.get_x() + bar.get_width() / 2,bar.get_height()), \n",
    "                 ha='center', va='center',size=15, xytext=(0, 8),textcoords='offset points')\n",
    "#Removing the legend\n",
    "ax.get_legend().remove()\n",
    "#Displaying the figure\n",
    "plt.show()"
   ]
  },
  {
   "cell_type": "markdown",
   "metadata": {
    "id": "ydKxgVmy6n3I"
   },
   "source": [
    "**Observations**\n",
    "\n",
    "- Sum of Sales from the city **Naypyitaw** is the highest."
   ]
  },
  {
   "cell_type": "markdown",
   "metadata": {},
   "source": [
    "[*Go Back to Index*](#Section0)<br>"
   ]
  },
  {
   "cell_type": "markdown",
   "metadata": {
    "id": "YbnPB3iBgkJp"
   },
   "source": [
    "## **Q5. Plot the average total sales of each city**"
   ]
  },
  {
   "cell_type": "code",
   "execution_count": null,
   "metadata": {
    "execution": {
     "iopub.execute_input": "2023-01-28T06:35:40.981471Z",
     "iopub.status.busy": "2023-01-28T06:35:40.981045Z",
     "iopub.status.idle": "2023-01-28T06:35:41.258336Z",
     "shell.execute_reply": "2023-01-28T06:35:41.257189Z",
     "shell.execute_reply.started": "2023-01-28T06:35:40.981431Z"
    },
    "id": "GuHvv_l8gNa4",
    "outputId": "604340e1-ff03-4bf2-8a0a-83c7f3fd35c3"
   },
   "outputs": [],
   "source": [
    "plt.figure(figsize=(22,5))\n",
    "#Creating a figure\n",
    "ax = sns.barplot(x='City', y = 'Total', hue = 'City', data = df, ci=None, dodge=False)\n",
    "plt.xlabel('City')\n",
    "plt.ylabel('Avge of Sales($)')\n",
    "plt.title(f'Distribution of Average Sales City wise', fontsize=20, y=1.06)\n",
    "#Removing the top and right spines in the chart\n",
    "plt.gca().spines['top'].set_visible(False)\n",
    "plt.gca().spines['right'].set_visible(False)\n",
    "#Adding the data labels\n",
    "for bar in ax.patches:\n",
    "    ax.annotate(format(bar.get_height(), '.2f'),(bar.get_x() + bar.get_width() / 2,bar.get_height()), \n",
    "                 ha='center', va='center',size=15, xytext=(0, 8),textcoords='offset points')\n",
    "#Removing the legend\n",
    "ax.get_legend().remove()\n",
    "#Displaying the figure\n",
    "plt.show()"
   ]
  },
  {
   "cell_type": "markdown",
   "metadata": {
    "id": "X2_-zlF64r2l"
   },
   "source": [
    "**Observations**\n",
    "\n",
    "- Average of Total Sales from the city **Naypyitaw** is the highest."
   ]
  },
  {
   "cell_type": "markdown",
   "metadata": {
    "id": "womIA-SGty8E"
   },
   "source": [
    "## **Q6. What is the distribution of customer type count?**"
   ]
  },
  {
   "cell_type": "code",
   "execution_count": null,
   "metadata": {
    "execution": {
     "iopub.execute_input": "2023-01-28T06:35:41.260405Z",
     "iopub.status.busy": "2023-01-28T06:35:41.259939Z",
     "iopub.status.idle": "2023-01-28T06:35:41.407701Z",
     "shell.execute_reply": "2023-01-28T06:35:41.405794Z",
     "shell.execute_reply.started": "2023-01-28T06:35:41.260372Z"
    },
    "id": "SCFNnlStid25",
    "outputId": "ae1825fb-2a67-43b8-8d3a-5c8c42d28a9b"
   },
   "outputs": [],
   "source": [
    "df.groupby(['Customer type']).count()['Total'].plot(kind='pie', autopct= '%.2f', figsize=(22,5),\n",
    "                                                    wedgeprops=dict(width=0.20))\n",
    "plt.title('Distribution of customer type count', fontsize=15)\n",
    "plt.show()"
   ]
  },
  {
   "cell_type": "markdown",
   "metadata": {
    "id": "dz2ZLhv6ty8F"
   },
   "source": [
    "**Observations:**\n",
    "\n",
    "- Members and Normal Customers have an **equal distribution** in terms of count of sales\n",
    "\n",
    "[*Go Back to Index*](#Section0)<br>"
   ]
  },
  {
   "cell_type": "markdown",
   "metadata": {
    "id": "WLSfix6f3xp4"
   },
   "source": [
    "## **Q7. What is the average sales during the day city wise?**"
   ]
  },
  {
   "cell_type": "code",
   "execution_count": null,
   "metadata": {
    "execution": {
     "iopub.execute_input": "2023-01-28T06:35:41.41151Z",
     "iopub.status.busy": "2023-01-28T06:35:41.410301Z",
     "iopub.status.idle": "2023-01-28T06:35:41.434169Z",
     "shell.execute_reply": "2023-01-28T06:35:41.4322Z",
     "shell.execute_reply.started": "2023-01-28T06:35:41.411403Z"
    },
    "id": "PH6_VuNnBb9O",
    "outputId": "ed422473-1484-43ec-8a81-c28097fa357c"
   },
   "outputs": [],
   "source": [
    "df['Day_Hour'] = df['Time'].apply(lambda x: x[0:2]).astype('int')\n",
    "time_OTD = []\n",
    "for i in df['Day_Hour']:\n",
    "    if i>9 and i <= 12:\n",
    "        time_OTD.append('Morning')\n",
    "    elif i> 12 and i <= 16:\n",
    "        time_OTD.append('Afternoon')   \n",
    "    else:\n",
    "        time_OTD.append('Evening')\n",
    "df['TimeOfTheDay'] = time_OTD\n",
    "print('New Column has been added')"
   ]
  },
  {
   "cell_type": "code",
   "execution_count": null,
   "metadata": {
    "execution": {
     "iopub.execute_input": "2023-01-28T06:35:41.43907Z",
     "iopub.status.busy": "2023-01-28T06:35:41.436882Z",
     "iopub.status.idle": "2023-01-28T06:35:41.69809Z",
     "shell.execute_reply": "2023-01-28T06:35:41.696822Z",
     "shell.execute_reply.started": "2023-01-28T06:35:41.438977Z"
    },
    "id": "5MgTHdFoGwIi",
    "outputId": "91f1a20d-2d37-4ec0-8c97-57d028eec422"
   },
   "outputs": [],
   "source": [
    "df['TimeOfTheDay'].value_counts().plot(figsize=(22,5), marker='o')\n",
    "plt.gca().spines['top'].set_visible(False)\n",
    "plt.gca().spines['right'].set_visible(False)\n",
    "#Adding ylabel axis\n",
    "plt.ylabel('Average Total Sales ($)')\n",
    "plt.xlabel('Hour of the day')\n",
    "#Setting a title\n",
    "plt.title('Average Total Sales during the day', fontsize=20)\n",
    "#Showing the figure\n",
    "plt.show()"
   ]
  },
  {
   "cell_type": "code",
   "execution_count": null,
   "metadata": {
    "execution": {
     "iopub.execute_input": "2023-01-28T06:35:41.701123Z",
     "iopub.status.busy": "2023-01-28T06:35:41.699938Z",
     "iopub.status.idle": "2023-01-28T06:35:42.0137Z",
     "shell.execute_reply": "2023-01-28T06:35:42.012315Z",
     "shell.execute_reply.started": "2023-01-28T06:35:41.701066Z"
    },
    "id": "od3oBjP85Afn",
    "outputId": "86004de9-4f48-487a-fc00-9382e1f1d06d"
   },
   "outputs": [],
   "source": [
    "plt.figure(figsize=(22,5))\n",
    "sns.lineplot(data=df, x='TimeOfTheDay', y='Total', hue='City', ci=None, marker='o')\n",
    "plt.gca().spines['top'].set_visible(False)\n",
    "plt.gca().spines['right'].set_visible(False)\n",
    "#Adding ylabel axis\n",
    "plt.ylabel('Average Total Sales ($)')\n",
    "plt.xlabel('Time of the day')\n",
    "#Setting a title\n",
    "plt.title('Average Total Sales during the day', fontsize=20)\n",
    "#Showing the figure\n",
    "plt.show()"
   ]
  },
  {
   "cell_type": "markdown",
   "metadata": {
    "id": "OakMOqak37e9"
   },
   "source": [
    "**Observations**\n",
    "\n",
    "- Average Sales in **Yangon** is highest at 7 PM and lowest at 6 PM\n",
    "- Average Sales in **Mandalay** is highest at 2 and 5 PM and lowest at 4 PM\n",
    "- Average Sales in **Naypyitaw** is highest at 11 AM and 1 PM and lowest at 12 PM"
   ]
  },
  {
   "cell_type": "markdown",
   "metadata": {
    "id": "ImpYb6UL9aQk"
   },
   "source": [
    "## **Q8. What is the average sales customer type wise?**"
   ]
  },
  {
   "cell_type": "code",
   "execution_count": null,
   "metadata": {
    "execution": {
     "iopub.execute_input": "2023-01-28T06:35:42.015874Z",
     "iopub.status.busy": "2023-01-28T06:35:42.015476Z",
     "iopub.status.idle": "2023-01-28T06:35:42.263358Z",
     "shell.execute_reply": "2023-01-28T06:35:42.262488Z",
     "shell.execute_reply.started": "2023-01-28T06:35:42.015838Z"
    },
    "id": "wfJElsDm4Uly",
    "outputId": "51b1bde3-ceaf-4eeb-8a0e-0fff7a5c59ee"
   },
   "outputs": [],
   "source": [
    "plt.figure(figsize=(22,5))\n",
    "#Creating the figure\n",
    "ax = sns.barplot(x='Customer type', y = 'Total', hue = 'Customer type', data = df, ci = None, dodge=False)\n",
    "#Removing the top and right spines in the chart\n",
    "plt.gca().spines['top'].set_visible(False)\n",
    "plt.gca().spines['right'].set_visible(False)\n",
    "#Adding ylabel axis\n",
    "plt.ylabel('Average Sales ($)')\n",
    "#Setting a title\n",
    "plt.title('Average Total Sales, Customer type Wise', fontsize=20)\n",
    "#Adding Annotations\n",
    "for bar in ax.patches:\n",
    "    ax.annotate(format(bar.get_height(), '.2f'),(bar.get_x() + bar.get_width() / 2,bar.get_height()), \n",
    "                 ha='center', va='center',size=15, xytext=(0, 8),textcoords='offset points')\n",
    "#Removing the legend\n",
    "ax.get_legend().remove()\n",
    "#Displaying the figure\n",
    "plt.show()"
   ]
  },
  {
   "cell_type": "markdown",
   "metadata": {
    "id": "vpQH0_qnLjll"
   },
   "source": [
    "**Observations**\n",
    "\n",
    "- Member Customers Average Total Sales is **higher** than the Normal Customers Average Total Sales"
   ]
  },
  {
   "cell_type": "markdown",
   "metadata": {
    "id": "LR6IGhB9W_Ia"
   },
   "source": [
    "## **Q9. What is the distribution of Average sales as per customer types for each city?**"
   ]
  },
  {
   "cell_type": "code",
   "execution_count": null,
   "metadata": {
    "execution": {
     "iopub.execute_input": "2023-01-28T06:35:42.265359Z",
     "iopub.status.busy": "2023-01-28T06:35:42.264822Z",
     "iopub.status.idle": "2023-01-28T06:35:42.56381Z",
     "shell.execute_reply": "2023-01-28T06:35:42.56276Z",
     "shell.execute_reply.started": "2023-01-28T06:35:42.265325Z"
    },
    "id": "dMumhxnp820N",
    "outputId": "a2e407ff-a648-49fb-cbc9-c91757ceac9c"
   },
   "outputs": [],
   "source": [
    "plt.figure(figsize=(22,5))\n",
    "#Creating a figure\n",
    "ax= sns.barplot(x='Customer type', y = 'Total', hue = 'City', data = df, ci = None)\n",
    "#Removing the top and right spines in the chart\n",
    "plt.gca().spines['top'].set_visible(False)\n",
    "plt.gca().spines['right'].set_visible(False)\n",
    "#Adding the title\n",
    "plt.title('Total Average Sales, Customer type and City Wise', fontsize=20, y=1.02)\n",
    "#Adding data labels\n",
    "for bar in ax.patches:\n",
    "    ax.annotate(format(bar.get_height(), '.2f'),(bar.get_x() + bar.get_width() / 2,bar.get_height()), \n",
    "                 ha='center', va='center',size=15, xytext=(0, 8),textcoords='offset points')\n",
    "plt.legend(loc='lower center')\n",
    "#Displaying the figure\n",
    "plt.show()"
   ]
  },
  {
   "cell_type": "markdown",
   "metadata": {
    "id": "2BF05jozLldl"
   },
   "source": [
    "**Observations**\n",
    "\n",
    "- **Member customers** in Naypyitaw are giving us highest sales (on average) i.e USD 336.\n",
    "- **Normal customers** in Naypyitaw are giving us highest sales (on average) i.e 337 USD.\n",
    "- **Naypyitaw** city is good from average sales perspective. Both the Member and Non Member Customers's average sales are above 335 USD."
   ]
  },
  {
   "cell_type": "markdown",
   "metadata": {
    "id": "h3oxGhrSty8U"
   },
   "source": [
    "## **Q10. Which product-line was customer's most and least favorite?**"
   ]
  },
  {
   "cell_type": "code",
   "execution_count": null,
   "metadata": {
    "execution": {
     "iopub.execute_input": "2023-01-28T06:35:42.565691Z",
     "iopub.status.busy": "2023-01-28T06:35:42.56512Z",
     "iopub.status.idle": "2023-01-28T06:35:42.848217Z",
     "shell.execute_reply": "2023-01-28T06:35:42.846955Z",
     "shell.execute_reply.started": "2023-01-28T06:35:42.565653Z"
    }
   },
   "outputs": [],
   "source": [
    "plt.figure(figsize=(22,5))\n",
    "#Creating a figure\n",
    "ax= sns.countplot(df['Product line'])\n",
    "#Removing the top and right spines in the chart\n",
    "plt.gca().spines['top'].set_visible(False)\n",
    "plt.gca().spines['right'].set_visible(False)\n",
    "#Adding the title\n",
    "plt.title('Distribution of Product line', fontsize=20, y=1.02)\n",
    "#Adding data labels\n",
    "for bar in ax.patches:\n",
    "    ax.annotate(format(bar.get_height(), '.2f'),(bar.get_x() + bar.get_width() / 2,bar.get_height()), \n",
    "                 ha='center', va='center',size=15, xytext=(0, 8),textcoords='offset points')\n",
    "#Displaying the figure\n",
    "plt.show()"
   ]
  },
  {
   "cell_type": "markdown",
   "metadata": {
    "id": "mZ5qnQ7cty8V"
   },
   "source": [
    "**Observations:**\n",
    "\n",
    "- **Health and Beauty** is getting picked up by the people the least while the **Fashion Accessories** are being purchased by the people the most."
   ]
  },
  {
   "cell_type": "markdown",
   "metadata": {
    "id": "z4Z5EboaXros"
   },
   "source": [
    "## **Q11. Plot the distribution of the total sales City and Product line wise.**"
   ]
  },
  {
   "cell_type": "code",
   "execution_count": null,
   "metadata": {
    "execution": {
     "iopub.execute_input": "2023-01-28T06:35:42.85013Z",
     "iopub.status.busy": "2023-01-28T06:35:42.849729Z",
     "iopub.status.idle": "2023-01-28T06:35:43.259386Z",
     "shell.execute_reply": "2023-01-28T06:35:43.258175Z",
     "shell.execute_reply.started": "2023-01-28T06:35:42.850094Z"
    },
    "id": "Qfkp0Tc4GyzO",
    "outputId": "a1cd0a40-b9f3-4ee3-ab18-c48715a88c30"
   },
   "outputs": [],
   "source": [
    "plt.figure(figsize=(22,5))\n",
    "#Creating the figure\n",
    "ax = sns.barplot(x='Product line', y = 'Total', hue = 'City', data = df, ci = None)\n",
    "#Adding title to the figure\n",
    "plt.title('Total Sales, Product Line and City Wise', fontsize=20)\n",
    "#Removing the top and right spines of the chart\n",
    "plt.gca().spines['top'].set_visible(False)\n",
    "plt.gca().spines['right'].set_visible(False)\n",
    "#Adding ylabel axis\n",
    "plt.ylabel('Average Sales ($)')\n",
    "#Adding data labels\n",
    "for bar in ax.patches:\n",
    "    ax.annotate(format(bar.get_height(), '.1f'),(bar.get_x() + bar.get_width() / 2,bar.get_height()), \n",
    "                 ha='center', va='center',size=15, xytext=(0, 8),textcoords='offset points')\n",
    "#Displaying the figure\n",
    "plt.show()"
   ]
  },
  {
   "cell_type": "markdown",
   "metadata": {
    "id": "ElyDS5exPNHh"
   },
   "source": [
    "**Observations**\n",
    "\n",
    "- In **city Yangon**, customers spend on Health and Beauty the least and Home and Lifestyle the most.\n",
    "- In **city Mandalay**, customers spend on Health and Beauty the most and Fashion Accessories the least.\n",
    "- In **city Naypyitaw**, customers spend on Home and lifestyle the least and Food and Beverages the most"
   ]
  },
  {
   "cell_type": "markdown",
   "metadata": {
    "id": "JSLlzJbHty81"
   },
   "source": [
    "## **Q12.Which type of Customer spends more on which Product line ?**"
   ]
  },
  {
   "cell_type": "code",
   "execution_count": null,
   "metadata": {
    "execution": {
     "iopub.execute_input": "2023-01-28T06:35:43.261289Z",
     "iopub.status.busy": "2023-01-28T06:35:43.260927Z",
     "iopub.status.idle": "2023-01-28T06:35:43.61007Z",
     "shell.execute_reply": "2023-01-28T06:35:43.609088Z",
     "shell.execute_reply.started": "2023-01-28T06:35:43.261258Z"
    },
    "id": "tQi1UsKB1t4y",
    "outputId": "0a00cace-2591-4755-f829-56128300565c"
   },
   "outputs": [],
   "source": [
    "plt.figure(figsize=(22,5))\n",
    "#Creating the figure\n",
    "ax = sns.barplot(x='Product line', y = 'Total', hue = 'Customer type', \n",
    "            data = df, ci = None)\n",
    "#Adding title to the figure\n",
    "plt.title('Distribution of Average sales product line and customer type wise', fontsize=18)\n",
    "#Removing the top and right spines of the chart\n",
    "plt.gca().spines['top'].set_visible(False)\n",
    "plt.gca().spines['right'].set_visible(False)\n",
    "#Adding ylabel axis\n",
    "plt.ylabel('Average Sales ($)')\n",
    "#Adding Data Labels\n",
    "for bar in ax.patches:\n",
    "    ax.annotate(format(bar.get_height(), '.1f'),(bar.get_x() + bar.get_width() / 2,bar.get_height()), \n",
    "                 ha='center', va='center',size=15, xytext=(0, 8),textcoords='offset points')\n",
    "#Setting the y axis limit\n",
    "plt.ylim(top=500)\n",
    "#Displaying the figure\n",
    "plt.show()"
   ]
  },
  {
   "cell_type": "markdown",
   "metadata": {
    "id": "iWjsDEAzty86"
   },
   "source": [
    "**Observations:**\n",
    "\n",
    "- **Member customers** spend on Health and beauty **the most** i.e. 353 dollars on an average which is the highest across all product lines.\n",
    "- **Normal customers** spend on Health and beauty **the least** i.e 295 dollars on an average which is the least across all product lines.\n",
    "- **Member customers** spend on Fashion Accessories **the least** i.e 306 dollars on an average \n",
    "- **Normal customers** spend on Sports and Travel **the most** i.e 340 dollars on an average \n"
   ]
  },
  {
   "cell_type": "markdown",
   "metadata": {
    "id": "pDontRi_YBDV"
   },
   "source": [
    "## **Q13. Find Average Sales Gender and City Wise.**"
   ]
  },
  {
   "cell_type": "code",
   "execution_count": null,
   "metadata": {
    "execution": {
     "iopub.execute_input": "2023-01-28T06:35:43.612325Z",
     "iopub.status.busy": "2023-01-28T06:35:43.611704Z",
     "iopub.status.idle": "2023-01-28T06:35:43.909823Z",
     "shell.execute_reply": "2023-01-28T06:35:43.908494Z",
     "shell.execute_reply.started": "2023-01-28T06:35:43.612285Z"
    },
    "id": "Pn4eW-Ht0DyZ",
    "outputId": "a303b988-718b-4b2e-c997-cfc177df2946"
   },
   "outputs": [],
   "source": [
    "plt.figure(figsize=(22,5))\n",
    "#Creating the figure\n",
    "ax = sns.barplot(x='City', y = 'Total', hue = 'Gender', \n",
    "            data = df, ci = None)\n",
    "#Adding the title to the figure\n",
    "plt.title('Total Average Sales, City and Gender Wise', fontsize=20)\n",
    "#Removing top and right spines in the chart\n",
    "plt.gca().spines['top'].set_visible(False)\n",
    "plt.gca().spines['right'].set_visible(False)\n",
    "#adding data labels\n",
    "for bar in ax.patches:\n",
    "    ax.annotate(format(bar.get_height(), '.1f'),(bar.get_x() + bar.get_width() / 2,bar.get_height()), \n",
    "                 ha='center', va='center',size=15, xytext=(0, 8),textcoords='offset points')\n",
    "#setting yaxis limit    \n",
    "plt.ylim(top=450)\n",
    "#Displaying the figure\n",
    "plt.show()"
   ]
  },
  {
   "cell_type": "markdown",
   "metadata": {
    "id": "K5d72yaLty89"
   },
   "source": [
    "**Observations:**\n",
    "\n",
    "- Both genders spend in **Naypyitaw** the most on an average.\n",
    "- Females spend the least in **Mandalay** while males spend the least in **Yangon**."
   ]
  },
  {
   "cell_type": "markdown",
   "metadata": {
    "id": "Hjf2ALu1YOOB"
   },
   "source": [
    "## **Q14. What is the total Average sales for each gender and product line combination?**"
   ]
  },
  {
   "cell_type": "code",
   "execution_count": null,
   "metadata": {
    "execution": {
     "iopub.execute_input": "2023-01-28T06:35:43.911889Z",
     "iopub.status.busy": "2023-01-28T06:35:43.911495Z",
     "iopub.status.idle": "2023-01-28T06:35:44.275333Z",
     "shell.execute_reply": "2023-01-28T06:35:44.27408Z",
     "shell.execute_reply.started": "2023-01-28T06:35:43.911852Z"
    },
    "id": "-xQYelCSq-IV",
    "outputId": "fe4c4268-22c6-4735-db11-c78980feda2d"
   },
   "outputs": [],
   "source": [
    "plt.figure(figsize=(22,5))\n",
    "#Creating the figure\n",
    "ax = sns.barplot(x='Product line', y = 'Total', hue = 'Gender', data = df, ci = None)\n",
    "#Removing top and right spines of the chart\n",
    "plt.gca().spines['top'].set_visible(False)\n",
    "plt.gca().spines['right'].set_visible(False)\n",
    "#Adding title to the figure\n",
    "plt.title('Total Average Sales, Product Line and Gender Wise', fontsize=20)\n",
    "#Adding Data Labels\n",
    "for bar in ax.patches:\n",
    "    ax.annotate(format(bar.get_height(), '.1f'),(bar.get_x() + bar.get_width() / 2,bar.get_height()), \n",
    "                 ha='center', va='center',size=15, xytext=(0, 8),textcoords='offset points')\n",
    "#Setting the y axis limit \n",
    "plt.ylim(top=450)\n",
    "#Displaying the figure\n",
    "plt.show()"
   ]
  },
  {
   "cell_type": "markdown",
   "metadata": {
    "id": "nk5QAcZjBQ4U"
   },
   "source": [
    "**Observations**\n",
    "\n",
    "- Females spend **more** on an average as compared to males across all product lines."
   ]
  },
  {
   "cell_type": "markdown",
   "metadata": {
    "id": "uly_cPLmKnlA"
   },
   "source": [
    "## **Q15: What is the correlation among the various features in the dataset?**"
   ]
  },
  {
   "cell_type": "code",
   "execution_count": null,
   "metadata": {
    "execution": {
     "iopub.execute_input": "2023-01-28T06:35:44.277174Z",
     "iopub.status.busy": "2023-01-28T06:35:44.276806Z",
     "iopub.status.idle": "2023-01-28T06:35:44.794924Z",
     "shell.execute_reply": "2023-01-28T06:35:44.793534Z",
     "shell.execute_reply.started": "2023-01-28T06:35:44.277142Z"
    },
    "id": "whXFuEiEKTfN",
    "outputId": "7d3c740e-5907-4c2e-9ae9-24d924cd5668"
   },
   "outputs": [],
   "source": [
    "#Finding out correlation\n",
    "corr = df.corr()\n",
    "#Gets rid of the other triange in the heatmap\n",
    "mask = np.triu(np.ones_like(corr, dtype=bool))      \n",
    "#creating the subplot\n",
    "f, ax = plt.subplots(figsize=(25,10))  \n",
    "#Setting the cmap             \n",
    "cmap = sns.diverging_palette(220, 20, as_cmap=True)\n",
    "#Creating the heatmap\n",
    "sns.heatmap(corr, mask=mask, cmap=cmap, vmax=.3, center=0, annot=True,square=True, linewidths=.5, cbar_kws={'shrink': .5})\n",
    "#Displaying the heatmap\n",
    "plt.show()"
   ]
  },
  {
   "cell_type": "markdown",
   "metadata": {
    "id": "kMA-xxUgN2Y-"
   },
   "source": [
    "**Observations**\n",
    "\n",
    "- Quantity has the a **strong positive correlation** with Gross Income, COGS, Total and Tax 5%\n",
    "- Rating has **strong negative** correlation with other features in the dataset.\n",
    "- Gross Income is **perfectly positively correlated** with Tax, Total and COGS.\n",
    "- COGS is **perfectly positively correlated** with Tax 5% and Total\n",
    "- Total is **perfectly positively correlated** with Tax 5%.\n",
    "\n",
    "[*Go Back to Index*](#Section0)<br>"
   ]
  },
  {
   "cell_type": "markdown",
   "metadata": {
    "id": "UT9QRjvKty9e"
   },
   "source": [
    "---\n",
    "<a name = Section8></a>\n",
    "# **8. Conclusion**\n",
    "---\n",
    "\n",
    "## **8.1. Observations**\n",
    "\n",
    "\n",
    "- There is **downward trend** over the months in Average Sales.\n",
    "- **Cost of Goods Sold** and Gross Income follow the same trend as the sales. \n",
    "- Gross Margin Percentage **Trend is flat**.\n",
    "- Count of sales from **Yangon** city is the highest while the count of sales from **Naypyitaw** is the least. \n",
    "- Sum of Sales from the city **Naypyitaw** is the highest.\n",
    "- Average Sales in **Yangon** is highest at 7 PM and lowest at 6 PM\n",
    "- Average Sales in **Mandalay** is highest at 2 and 5 PM and lowest at 4 PM\n",
    "- Average Sales in **Naypyitaw** is highest at 11 AM and 1 PM and lowest at 12 PM\n",
    "- Members and Normal Customers have an **equal distribution** in terms of sales\n",
    "- Member Customers Average Total Sales is **higher** than the Normal Customers Average Total Sales.\n",
    "- **Member customers** in Naypyitaw are giving us highest sales (on average) i.e USD 336.\n",
    "- **Normal customers** in Naypyitaw are giving us highest sales (on average) i.e 337 USD.\n",
    "- **Naypyitaw** city is good from average sales perspective. Both the Member and Non Member Customers's average sales are above 335 USD.\n",
    "- **Health and Beauty** is getting picked up by the people the least while the **Fashion Accessories** are being purchased by the people the most.\n",
    "- **Average Spend** on **Fashion Accessories** is the least while the average spend on **Home and lifestyle** product line is the highest.\n",
    "- **Member customers** spend on Health and beauty **the most** i.e. 353 dollars on an average which is the highest across all product lines.\n",
    "- **Normal customers** spend on Health and beauty **the least** i.e 295 dollars on an average which is the least across all product lines.\n",
    "- **Member customers** spend on Fashion Accessories **the least** i.e 306 dollars on an average \n",
    "- **Normal customers** spend on Sports and Travel **the most** i.e 340 dollars on an average \n",
    "- Females spend **more** on an avge as compared to males.\n",
    "- Average Sales in **Yangon** is highest at 7 PM and lowest at 6 PM\n",
    "- Average Sales in **Mandalay** is highest at 2 and 5 PM and lowest at 4 PM\n",
    "- Average Sales in **Naypyitaw** is highest at 11 AM and 1 PM and lowest at 12 PM\n",
    "\n",
    "## **8.2. Actionable Insights**\n",
    "\n",
    "- Yangon should run **more promotional discounts** and schemes to attract more customers. They can hand out **flyers** laying out the various attractions of the branch to the potential customers passing by.\n",
    "- For **Health and Beauty** product line, the store should **run ad campaigns** where they should tell the importance of overall health and well being which will garner more customers.\n",
    "- **Benefits of using member cards** should be conveyed to the normal customers which will convert them to a member which means **more sales and customer loyalty.**\n",
    "- There can be **prime time ads in Yangon and Mandalay city** showing the newest attractions at the store. During festive season, there can be sale for e.g Black Friday Sale, Christmas Sale, New Years Bonanza.\n",
    "- Since men (on an average) spend less than woman, there could be a **survey asking about the preferences** of the category they like and not like the most basis which **modifications can be made** in product line to generate more sales.\n",
    "\n",
    "[*Go Back to Index*](#Section0)<br>"
   ]
  }
 ],
 "metadata": {
  "kaggle": {
   "accelerator": "none",
   "dataSources": [
    {
     "datasetId": 205965,
     "sourceId": 451952,
     "sourceType": "datasetVersion"
    }
   ],
   "dockerImageVersionId": 30369,
   "isGpuEnabled": false,
   "isInternetEnabled": false,
   "language": "python",
   "sourceType": "notebook"
  },
  "kernelspec": {
   "display_name": "Python 3 (ipykernel)",
   "language": "python",
   "name": "python3"
  },
  "language_info": {
   "codemirror_mode": {
    "name": "ipython",
    "version": 3
   },
   "file_extension": ".py",
   "mimetype": "text/x-python",
   "name": "python",
   "nbconvert_exporter": "python",
   "pygments_lexer": "ipython3",
   "version": "3.11.4"
  }
 },
 "nbformat": 4,
 "nbformat_minor": 4
}
